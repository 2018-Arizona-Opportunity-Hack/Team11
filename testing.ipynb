{
 "cells": [
  {
   "cell_type": "code",
   "execution_count": 154,
   "metadata": {},
   "outputs": [],
   "source": [
    "page_2_questions = {\n",
    "    'question_9': {\n",
    "        'type': 'multi',\n",
    "        'a': [\n",
    "            205, 285, 215, 451\n",
    "        ],\n",
    "        'b': [\n",
    "            200, 283, 473, 671\n",
    "        ],\n",
    "        'c': [\n",
    "            209, 279, 678, 891\n",
    "        ],\n",
    "        'd': [\n",
    "            218, 281, 892, 1064\n",
    "        ],\n",
    "        'e': [\n",
    "            219, 277, 1074, 1329\n",
    "        ],\n",
    "        'f': [\n",
    "            276, 325, 227, 468\n",
    "        ],\n",
    "        'g': [\n",
    "            281, 328, 470, 675\n",
    "        ],\n",
    "        'h': [\n",
    "            280, 326, 679, 1029\n",
    "        ],\n",
    "        'i': [\n",
    "            278, 324, 1058, 1339\n",
    "        ],\n",
    "        'j': [\n",
    "            326, 378, 221, 482\n",
    "        ],\n",
    "        'l': [\n",
    "            326, 372, 484, 600\n",
    "        ],\n",
    "        'k': [\n",
    "            325, 399, 732, 1680\n",
    "        ]\n",
    "    },\n",
    "    'question_10': {\n",
    "        'type': 'single',\n",
    "        '0': [\n",
    "            571, 625, 136, 264\n",
    "        ],\n",
    "        '1': [\n",
    "            565, 624,343, 465\n",
    "        ],\n",
    "        '2': [\n",
    "            576, 620, 551, 659\n",
    "        ],\n",
    "        '3': [\n",
    "            577, 614, 751, 859\n",
    "        ],\n",
    "        '4': [\n",
    "            571, 628, 958, 1065\n",
    "        ],\n",
    "        '5': [\n",
    "            568, 629, 1154, 1261\n",
    "        ]\n",
    "    },\n",
    "    'question_11': {\n",
    "        'type': 'single',\n",
    "        '0': [\n",
    "            665, 713, 158, 242\n",
    "        ],\n",
    "        '1': [\n",
    "            664, 714, 354, 449\n",
    "        ],\n",
    "        '2': [\n",
    "            666, 717, 562, 654\n",
    "        ],\n",
    "        '3': [\n",
    "            668, 713, 761, 852\n",
    "        ],\n",
    "        '4': [\n",
    "            667, 721, 960, 1056\n",
    "        ],\n",
    "        '5': [\n",
    "            659, 725, 1139, 1270\n",
    "        ]\n",
    "    },\n",
    "    'question_12': {\n",
    "        'type': 'single',\n",
    "        '0': [\n",
    "            759, 811, 154, 249\n",
    "        ],\n",
    "        '1': [\n",
    "            761, 813, 353, 448\n",
    "        ],\n",
    "        '2': [\n",
    "            761, 811, 550, 655\n",
    "        ],\n",
    "        '3': [\n",
    "            760, 816, 752, 866\n",
    "        ],\n",
    "        '4': [\n",
    "            758, 819, 959, 1064\n",
    "        ],\n",
    "        '5': [\n",
    "            741, 829, 1145, 1276\n",
    "        ]\n",
    "    },\n",
    "    'question_13': {\n",
    "        'type': 'single',\n",
    "        '0': [\n",
    "            849, 907, 152, 247\n",
    "        ],\n",
    "        '1': [\n",
    "            856, 906, 354, 449\n",
    "        ],\n",
    "        '2': [\n",
    "            853, 908, 540, 657\n",
    "        ],\n",
    "        '3': [\n",
    "            855, 909, 747, 858\n",
    "        ],\n",
    "        '4': [\n",
    "            853, 913, 943, 1071\n",
    "        ],\n",
    "        '5': [\n",
    "            833, 920, 1137, 1274\n",
    "        ]\n",
    "    },\n",
    "    'question_14':{\n",
    "        'type': 'single',\n",
    "        '0':[\n",
    "            945,1005,144,242\n",
    "        ],\n",
    "        '1':[\n",
    "            949, 999, 351,454\n",
    "        ],\n",
    "        '2':[\n",
    "            948,1001,553,648\n",
    "        ],\n",
    "        '3':[\n",
    "            949,1001,754,846\n",
    "        ],\n",
    "        '4':[\n",
    "            953,1007,957,1064\n",
    "        ],\n",
    "        '5':[\n",
    "            945,1011,1137,1277\n",
    "        ]\n",
    "    },\n",
    "    'question_15':{\n",
    "        'type': 'single',\n",
    "        '0':[\n",
    "            1046,1097,141,241\n",
    "        ],\n",
    "        '1':[\n",
    "            1045,1084,351,439\n",
    "        ],\n",
    "        '2':[\n",
    "            1051,1095,537,649\n",
    "        ],\n",
    "        '3':[\n",
    "            1051,1095,739,845\n",
    "        ],\n",
    "        '4':[\n",
    "            1047,1099,943,1055\n",
    "        ],\n",
    "        '5':[\n",
    "            1035,1109,1133,1269\n",
    "        ]\n",
    "    },\n",
    "    'question_16':{\n",
    "        'type': 'single',\n",
    "        '0':[\n",
    "            1135,1195,135,235\n",
    "        ],\n",
    "        '1':[\n",
    "            1143,1191,343,451\n",
    "        ],\n",
    "        '2':[\n",
    "            1137,1197,547,647\n",
    "        ],\n",
    "        '3':[\n",
    "            1141,1189,749,859\n",
    "        ],\n",
    "        '4':[\n",
    "            1137,1201,935,1065\n",
    "        ],\n",
    "        '5':[\n",
    "            1129,1203,1133,1265\n",
    "        ]\n",
    "    },\n",
    "    'question_17':{\n",
    "        'type': 'single',\n",
    "        '0':[\n",
    "            1235,1283,143,287\n",
    "        ],\n",
    "        '1':[\n",
    "            1237,1283,339,437\n",
    "        ],\n",
    "        '2':[\n",
    "            1237,1287,539,651\n",
    "        ],\n",
    "        '3':[\n",
    "            1237,1285,743,839\n",
    "        ],\n",
    "        '4':[\n",
    "            1229,1289,941,1055\n",
    "        ],\n",
    "        '5':[\n",
    "            1233,1293,1131,1259\n",
    "        ]\n",
    "    },\n",
    "    'question_18':{\n",
    "        'type': 'single',\n",
    "        '0':[\n",
    "            1329,1379,137,235\n",
    "        ],\n",
    "        '1':[\n",
    "            1329,1379,331,449\n",
    "        ],\n",
    "        '2':[\n",
    "            1329,1383,531,643\n",
    "        ],\n",
    "        '3':[\n",
    "            1327,1329,737,839\n",
    "        ],\n",
    "        '4':[\n",
    "            1325,1381,943,1043\n",
    "        ],\n",
    "        '5':[\n",
    "            1329,1379,1131,1249\n",
    "        ]\n",
    "    },\n",
    "    'question_19':{\n",
    "        'type': 'single',\n",
    "        '0':[\n",
    "            1424,1474,137,227\n",
    "        ],\n",
    "        '1':[\n",
    "            1424,1474,333,435\n",
    "        ],\n",
    "        '2':[\n",
    "            1420,1482,541,647\n",
    "        ],\n",
    "        '3':[\n",
    "            1422,1472,733,843\n",
    "        ],\n",
    "        '4':[\n",
    "            1428,1472,931,1043\n",
    "        ],\n",
    "        '5':[\n",
    "            1410,1472,1141,1251\n",
    "        ]\n",
    "    },\n",
    "    'question_20':{\n",
    "        'type': 'single',\n",
    "        '0':[\n",
    "            1514,1574,133,223\n",
    "        ],\n",
    "        '1':[\n",
    "            1520,1570,341,441\n",
    "        ],\n",
    "        '2':[\n",
    "            1514,1570,533,641\n",
    "        ],\n",
    "        '3':[\n",
    "            1520,1566,735,845\n",
    "        ],\n",
    "        '4':[\n",
    "            1516,1576,943,1039\n",
    "        ],\n",
    "        '5':[\n",
    "            1514,1570,1143,1241\n",
    "        ]\n",
    "    },\n",
    "    'question_21':{\n",
    "        'type': 'single',\n",
    "        '0':[\n",
    "            1608,1670,115,245\n",
    "        ],\n",
    "        '1':[\n",
    "            1610,1666,331,441\n",
    "        ],\n",
    "        '2':[\n",
    "            1606,1668,527,641\n",
    "        ],\n",
    "        '3':[\n",
    "            1612,1664,725,837\n",
    "        ],\n",
    "        '4':[\n",
    "            1610,1668,935,1093\n",
    "        ],\n",
    "        '5':[\n",
    "            1608,1660,1131,1261\n",
    "        ]\n",
    "    },\n",
    "    'question_22':{\n",
    "        'type': 'single',\n",
    "        '0':[\n",
    "            1700,1770,127,241\n",
    "        ],\n",
    "        '1':[\n",
    "            1704,1772,315,437\n",
    "        ],\n",
    "        '2':[\n",
    "            1706,1760,523,659\n",
    "        ],\n",
    "        '3':[\n",
    "            1706,1768,733,849\n",
    "        ],\n",
    "        '4':[\n",
    "            1707,1760,927,1035\n",
    "        ],\n",
    "        '5':[\n",
    "            1694,1764,1125,1245\n",
    "        ]\n",
    "    },\n",
    "    'question_23':{\n",
    "        'type': 'text',\n",
    "        'a':[\n",
    "            1871,2197,1,1699\n",
    "        ]\n",
    "    }\n",
    "}"
   ]
  },
  {
   "cell_type": "code",
   "execution_count": 4,
   "metadata": {},
   "outputs": [],
   "source": [
    "import imageio"
   ]
  },
  {
   "cell_type": "code",
   "execution_count": 5,
   "metadata": {},
   "outputs": [],
   "source": [
    "import matplotlib.pyplot as plt\n",
    "from PIL import Image"
   ]
  },
  {
   "cell_type": "code",
   "execution_count": 6,
   "metadata": {},
   "outputs": [],
   "source": [
    "import numpy as np\n",
    "import scipy\n",
    "import pdf2image"
   ]
  },
  {
   "cell_type": "code",
   "execution_count": 7,
   "metadata": {},
   "outputs": [],
   "source": [
    "pages = pdf2image.convert_from_path('Scanned Surveys.pdf')"
   ]
  },
  {
   "cell_type": "code",
   "execution_count": 8,
   "metadata": {},
   "outputs": [],
   "source": [
    "def sum_darkness(array, position):\n",
    "    return np.sum(array[position[1]: position[2], position[3]: position[4]])"
   ]
  },
  {
   "cell_type": "code",
   "execution_count": 109,
   "metadata": {},
   "outputs": [],
   "source": [
    "def return_image(array, spots):\n",
    "    plt.figure()\n",
    "    plt.imshow(\n",
    "        array[\n",
    "            spots[0]: \n",
    "            spots[1], \n",
    "            spots[2]: \n",
    "            spots[3]\n",
    "        ]\n",
    "    )"
   ]
  },
  {
   "cell_type": "code",
   "execution_count": 10,
   "metadata": {},
   "outputs": [],
   "source": [
    "def compare_images(im_list, im1, im2, location):\n",
    "    im_list[im1].save('out.jpg', 'JPEG')\n",
    "    im = imageio.imread('out.jpg')\n",
    "    return_image(im, location)\n",
    "    pages[im2].save('out.jpg', 'JPEG')\n",
    "    im = imageio.imread('out.jpg')\n",
    "    return_image(im, location)"
   ]
  },
  {
   "cell_type": "code",
   "execution_count": 12,
   "metadata": {
    "scrolled": true
   },
   "outputs": [
    {
     "data": {
      "image/png": "[encoded data removed]",
      "text/plain": [
       "<Figure size 432x288 with 1 Axes>"
      ]
     },
     "metadata": {},
     "output_type": "display_data"
    },
    {
     "data": {
      "image/png": "[encoded data removed]",
      "text/plain": [
       "<Figure size 432x288 with 1 Axes>"
      ]
     },
     "metadata": {},
     "output_type": "display_data"
    }
   ],
   "source": [
    "compare_images(pages, 117, 115, page_2_questions['question_9']['a'])"
   ]
  },
  {
   "cell_type": "code",
   "execution_count": 24,
   "metadata": {},
   "outputs": [],
   "source": [
    "def update_originals(orig_path):\n",
    "    def update_array(spots_dict):\n",
    "        for question, answers in spots_dict.items():\n",
    "            for answer, spot in answers.items():\n",
    "                spots_dict[question][answer].append(\n",
    "                    sum_darkness(\n",
    "                    img_array, \n",
    "                    spot)\n",
    "                )\n",
    "    \n",
    "    orig = pdf2image.convert_from_path(orig_path)        \n",
    "    orig[0].save('out.jpg', 'JPEG')\n",
    "    im = imageio.imread('out.jpg')\n",
    "    update_array(page_1_questions, im)\n",
    "    \n",
    "    orig[1].save('out.jpg', 'JPEG')\n",
    "    im = imageio.imread('out.jpg')\n",
    "    update_array(page_2_questions, im)\n",
    "    "
   ]
  },
  {
   "cell_type": "code",
   "execution_count": 151,
   "metadata": {
    "scrolled": false
   },
   "outputs": [],
   "source": [
    "def get_answers(questions_dict, im_array):\n",
    "    step_array = [.97, .98, .99, .999]\n",
    "    question_answers = {}\n",
    "    flag = 'green'\n",
    "    for question, answers in questions_dict.items():\n",
    "        answer_choice = []\n",
    "        answer_count = 0\n",
    "        question_type = ''\n",
    "        for answer, spot in answers.items():\n",
    "            if answer == 'type':\n",
    "                question_type = spot\n",
    "                continue\n",
    "            if question_type == 'single':\n",
    "                if sum_darkness(im_array, spot) < spot[4]*.98: \n",
    "                    answer_count += 1\n",
    "                if question == 'quesion_11':\n",
    "                    print(answer, sum_darkness(im_array, spot) < spot[4]*.98)\n",
    "                if len(answer_choice) > 0:\n",
    "                    continue\n",
    "                if sum_darkness(im_array, spot) < spot[4]*.97: \n",
    "                    answer_choice.append(answer)\n",
    "                    continue\n",
    "                elif sum_darkness(im_array, spot) < spot[4]*.98: \n",
    "                    answer_choice.append(answer)\n",
    "                    continue\n",
    "                elif sum_darkness(im_array, spot) < spot[4]*.99: \n",
    "                    answer_choice.append(answer)\n",
    "                    continue\n",
    "                elif sum_darkness(im_array, spot) < spot[4]*.999: \n",
    "                    answer_choice.append(answer)\n",
    "                    continue\n",
    "            if question_type == 'multi':\n",
    "                if sum_darkness(im_array, spot) < spot[4]*.98:\n",
    "                    answer_choice.append(answer)\n",
    "        if answer_count > 1:\n",
    "            flag = 'red'\n",
    "        question_answers[question] = (answer_choice, flag)\n",
    "    return question_answers"
   ]
  },
  {
   "cell_type": "code",
   "execution_count": 155,
   "metadata": {
    "scrolled": true
   },
   "outputs": [],
   "source": [
    "pages[115].save('out.jpg', 'JPEG')\n",
    "img_array = imageio.imread('out.jpg')\n",
    "for question, answers in page_2_questions.items():\n",
    "        for answer, spot in answers.items():\n",
    "            if answer == 'type':\n",
    "                continue\n",
    "            page_2_questions[question][answer].append(\n",
    "                sum_darkness(\n",
    "                img_array, \n",
    "                spot)\n",
    "            )"
   ]
  },
  {
   "cell_type": "code",
   "execution_count": 156,
   "metadata": {
    "scrolled": true
   },
   "outputs": [
    {
     "data": {
      "text/plain": [
       "{'question_10': (['1'], 'green'),\n",
       " 'question_11': (['5'], 'green'),\n",
       " 'question_12': (['5'], 'green'),\n",
       " 'question_13': (['5'], 'green'),\n",
       " 'question_14': (['5'], 'green'),\n",
       " 'question_15': (['5'], 'green'),\n",
       " 'question_16': (['5'], 'green'),\n",
       " 'question_17': (['5'], 'green'),\n",
       " 'question_18': (['2'], 'green'),\n",
       " 'question_19': (['1'], 'green'),\n",
       " 'question_20': (['2'], 'green'),\n",
       " 'question_21': (['0'], 'green'),\n",
       " 'question_22': (['0'], 'green'),\n",
       " 'question_23': ([], 'green'),\n",
       " 'question_9': (['b'], 'green')}"
      ]
     },
     "execution_count": 156,
     "metadata": {},
     "output_type": "execute_result"
    }
   ],
   "source": [
    "pages[117].save('out.jpg', 'JPEG')\n",
    "image = imageio.imread('out.jpg')\n",
    "get_answers(page_2_questions, image)"
   ]
  },
  {
   "cell_type": "code",
   "execution_count": 95,
   "metadata": {},
   "outputs": [],
   "source": [
    "pages[0].save('out.jpg', 'JPEG')"
   ]
  },
  {
   "cell_type": "code",
   "execution_count": 153,
   "metadata": {},
   "outputs": [
    {
     "data": {
      "image/png": "[encoded data removed]",
      "text/plain": [
       "<Figure size 432x288 with 1 Axes>"
      ]
     },
     "metadata": {},
     "output_type": "display_data"
    },
    {
     "data": {
      "image/png": "[encoded data removed]",
      "text/plain": [
       "<Figure size 432x288 with 1 Axes>"
      ]
     },
     "metadata": {},
     "output_type": "display_data"
    }
   ],
   "source": [
    "compare_images(im1=115, im2=117, im_list=pages, location=page_2_questions['question_21']['0'])"
   ]
  },
  {
   "cell_type": "code",
   "execution_count": 225,
   "metadata": {},
   "outputs": [],
   "source": [
    "for page in pages:\n",
    "    page.save('out.jpg', 'JPEG')\n",
    "    image = imageio.imread('out.jpg')\n",
    "    "
   ]
  },
  {
   "cell_type": "code",
   "execution_count": 255,
   "metadata": {},
   "outputs": [],
   "source": [
    "pages[99].save('out.jpg', 'JPEG')\n",
    "image = imageio.imread('out.jpg')\n",
    "update_originals(img_array=image, spots_dict=page_2_questions)"
   ]
  },
  {
   "cell_type": "code",
   "execution_count": 250,
   "metadata": {},
   "outputs": [
    {
     "data": {
      "text/plain": [
       "<matplotlib.image.AxesImage at 0x7f8b9dba6f28>"
      ]
     },
     "execution_count": 250,
     "metadata": {},
     "output_type": "execute_result"
    },
    {
     "data": {
      "image/png": "[encoded data removed]",
      "text/plain": [
       "<Figure size 432x288 with 1 Axes>"
      ]
     },
     "metadata": {},
     "output_type": "display_data"
    }
   ],
   "source": [
    "image = imageio.imread('out.jpg')\n",
    "plt.imshow(image[245:280, 250:450])"
   ]
  },
  {
   "cell_type": "code",
   "execution_count": 45,
   "metadata": {},
   "outputs": [
    {
     "data": {
      "text/plain": [
       "4404.458823529412"
      ]
     },
     "execution_count": 45,
     "metadata": {},
     "output_type": "execute_result"
    }
   ],
   "source": [
    "np.sum(image[:10]/(255*3))"
   ]
  },
  {
   "cell_type": "code",
   "execution_count": null,
   "metadata": {},
   "outputs": [],
   "source": []
  }
 ],
 "metadata": {
  "kernelspec": {
   "display_name": "Python 3",
   "language": "python",
   "name": "python3"
  },
  "language_info": {
   "codemirror_mode": {
    "name": "ipython",
    "version": 3
   },
   "file_extension": ".py",
   "mimetype": "text/x-python",
   "name": "python",
   "nbconvert_exporter": "python",
   "pygments_lexer": "ipython3",
   "version": "3.6.5"
  }
 },
 "nbformat": 4,
 "nbformat_minor": 2
}
